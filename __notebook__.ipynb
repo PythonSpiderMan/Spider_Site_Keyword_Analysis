{
 "cells": [
  {
   "cell_type": "code",
   "execution_count": 1,
   "metadata": {},
   "outputs": [],
   "source": [
    "import matplotlib.pyplot as plt\n",
    "import seaborn as sns \n",
    "import pandas as pd\n",
    "from selenium import webdriver\n",
    "from selenium.webdriver.common.keys import Keys\n",
    "from selenium.webdriver.chrome.options import Options\n",
    "from selenium.webdriver.common.by import By\n",
    "from selenium.webdriver.support.ui import WebDriverWait\n",
    "from selenium.webdriver.support import expected_conditions as EC\n",
    "from bs4 import BeautifulSoup\n",
    "from bs4.element import Comment\n",
    "import copy\n",
    "import logging"
   ]
  },
  {
   "cell_type": "code",
   "execution_count": 2,
   "metadata": {
    "collapsed": true
   },
   "outputs": [],
   "source": [
    "input_url_string = \"https://timesofindia.indiatimes.com/india/would-you-mind-saying-sorry-for-note-ban-prakash-raj-to-pm-modi/articleshow/61565057.cms;https://timesofindia.indiatimes.com/videos/news/with-one-sarcastic-tweet-owaisi-nails-bjp-congress-on-their-hypocrisy/videoshow/61859286.cms\"\n",
    "input_keyword_string = \"Narendra Modi;one\"\n",
    "# input_keyword_string = input(\"Please Enter Keywords to Search, split multiple keyword with semicolon (for Ex. Narendra Modi;one ): \")\n",
    "# input_url_string = input(\"Please Enter the URLs, split 2 URLs with semicolon (with http/https):\")"
   ]
  },
  {
   "cell_type": "code",
   "execution_count": 3,
   "metadata": {},
   "outputs": [
    {
     "name": "stdout",
     "output_type": "stream",
     "text": [
      "==============================\n",
      "This is URL1:\n",
      "https://timesofindia.indiatimes.com/india/would-you-mind-saying-sorry-for-note-ban-prakash-raj-to-pm-modi/articleshow/61565057.cms\n",
      "==============================\n",
      "This is URL2:\n",
      "https://timesofindia.indiatimes.com/videos/news/with-one-sarcastic-tweet-owaisi-nails-bjp-congress-on-their-hypocrisy/videoshow/61859286.cms\n",
      "==============================\n",
      "Here are your keywords:\n",
      "==============================\n",
      "Narendra Modi\n",
      "one\n"
     ]
    }
   ],
   "source": [
    "# 接受url与keyword同时将他们转换为list\n",
    "target_urls = copy.deepcopy(str(input_url_string).split(\";\"))\n",
    "keywords_list = copy.deepcopy(str(input_keyword_string).split(\";\"))\n",
    "\n",
    "# 检查URL，并展示\n",
    "if not len(target_urls) == 2:\n",
    "    logging.error(\"Please make sure that you have exactly 2 urls in your url string\")\n",
    "    quit()\n",
    "else:\n",
    "    print(\"=\"*30)\n",
    "    print(\"This is URL1:\")\n",
    "    print(target_urls[0])\n",
    "    print(\"=\"*30)\n",
    "    print(\"This is URL2:\")\n",
    "    print(target_urls[1])\n",
    "    print(\"=\"*30)\n",
    "\n",
    "# 检查keyword，并展示\n",
    "if len(keywords_list) <= 0:\n",
    "    logging.error(\"Please make sure that you have entered at least 1 keywords\")\n",
    "else:\n",
    "    print(\"Here are your keywords:\")\n",
    "    print(\"=\"*30)\n",
    "    [print(keyword) for keyword in keywords_list]"
   ]
  },
  {
   "cell_type": "code",
   "execution_count": 4,
   "metadata": {},
   "outputs": [],
   "source": [
    "# 爬取网站，初始化爬虫 (chrome|firefox)\n",
    "BROWSER_SETTING = \"chrome\"\n",
    "\n",
    "# Enable Headless Mode\n",
    "chrome_options = Options()\n",
    "chrome_options.add_argument(\"--headless\")\n",
    "\n",
    "# 启动爬虫\n",
    "driver = None\n",
    "if BROWSER_SETTING == \"firefox\":\n",
    "    driver = webdriver.Firefox(executable_path=r'geckodriver.exe')\n",
    "elif BROWSER_SETTING == \"chrome\":\n",
    "    driver = webdriver.Chrome(executable_path=r'chromedriver.exe', chrome_options=chrome_options)\n",
    "else:\n",
    "    logging.error(\"Please check your BROWSER_SETTING variable\")"
   ]
  },
  {
   "cell_type": "code",
   "execution_count": 5,
   "metadata": {
    "collapsed": true
   },
   "outputs": [],
   "source": [
    "def tag_visible(element):\n",
    "    if element.parent.name in ['style', 'script', 'head', 'title', 'meta', '[document]']:\n",
    "        return False\n",
    "    if isinstance(element, Comment):\n",
    "        return False\n",
    "    return True"
   ]
  },
  {
   "cell_type": "code",
   "execution_count": 6,
   "metadata": {},
   "outputs": [],
   "source": [
    "targets_response = []\n",
    "for target in target_urls:\n",
    "    driver.get(target)\n",
    "    WebDriverWait(driver, 5)\n",
    "    driver.execute_script(\"window.scrollTo(0, document.body.scrollHeight*4);\")\n",
    "    driver.execute_script(\"window.scrollTo(0, document.body.scrollHeight*4);\")\n",
    "    \n",
    "    # 把网站文字内容全部提取\n",
    "    bs_obj = BeautifulSoup(driver.page_source, 'html.parser')\n",
    "    texts = bs_obj.find_all(text=True)\n",
    "    visible_texts = filter(tag_visible, texts)\n",
    "    visible_texts_string = u\" \".join(t.strip() for t in visible_texts)\n",
    "    \n",
    "    targets_response.append(copy.deepcopy(visible_texts_string))\n",
    "\n",
    "driver.close()"
   ]
  },
  {
   "cell_type": "code",
   "execution_count": 7,
   "metadata": {
    "collapsed": true
   },
   "outputs": [],
   "source": [
    "# 对于每一个关键字，找出其在URL1的出现次数\n",
    "keywords_counts_url1 = []\n",
    "for keyword in keywords_list:\n",
    "    keywords_counts_url1.append(targets_response[0].count(keyword))"
   ]
  },
  {
   "cell_type": "code",
   "execution_count": 8,
   "metadata": {},
   "outputs": [],
   "source": [
    "# 对于每一个关键字，找出其在URL2的出现次数\n",
    "keywords_counts_url2 = []\n",
    "for keyword in keywords_list:\n",
    "    keywords_counts_url2.append(targets_response[1].count(keyword))"
   ]
  },
  {
   "cell_type": "code",
   "execution_count": 52,
   "metadata": {},
   "outputs": [
    {
     "name": "stderr",
     "output_type": "stream",
     "text": [
      "C:\\ProgramData\\Anaconda3\\envs\\scrapy\\lib\\site-packages\\ipykernel_launcher.py:29: DeprecationWarning: \n",
      ".ix is deprecated. Please use\n",
      ".loc for label based indexing or\n",
      ".iloc for positional indexing\n",
      "\n",
      "See the documentation here:\n",
      "http://pandas.pydata.org/pandas-docs/stable/indexing.html#ix-indexer-is-deprecated\n"
     ]
    },
    {
     "data": {
      "image/png": "[encoded data removed]",
      "text/plain": [
       "<matplotlib.figure.Figure at 0xb0df727198>"
      ]
     },
     "metadata": {},
     "output_type": "display_data"
    }
   ],
   "source": [
    "# Plot Graph 1 & 2\n",
    "log_cols = [\"Keywords\", \"Keyword Counts in URL1\", \"Keyword Counts in URL2\"]\n",
    "log = pd.DataFrame(columns=log_cols)\n",
    "\n",
    "for index in range(0, len(keywords_list)):\n",
    "    keyword = copy.deepcopy(keywords_list[index])\n",
    "    keyword_count_url1 = copy.deepcopy(keywords_counts_url1[index])\n",
    "    keyword_count_url2 = copy.deepcopy(keywords_counts_url2[index])\n",
    "    log_entry = pd.DataFrame([[keyword, keyword_count_url1, keyword_count_url2]], columns=log_cols)\n",
    "    log = log.append(log_entry, ignore_index=True)\n",
    "\n",
    "# Plot Graph 1\n",
    "fig = plt.figure(figsize=(20, 15))\n",
    "ax = fig.add_subplot(221)\n",
    "sns.set_color_codes(\"muted\")\n",
    "ax = sns.barplot(x=\"Keyword Counts in URL1\", y=\"Keywords\", data=log, color=\"b\")\n",
    "plt.title(\"Keywords Counts in URL1\")\n",
    "plt.xlabel(\"Keywords Counts in URL1\")\n",
    "\n",
    "# Plot Graph 2\n",
    "ax = fig.add_subplot(223)\n",
    "sns.set_color_codes(\"muted\")\n",
    "ax = sns.barplot(x=\"Keyword Counts in URL2\", y=\"Keywords\", data=log, color=\"r\")\n",
    "plt.title(\"Keywords Counts in URL2\")\n",
    "plt.xlabel(\"Keywords Counts in URL2\")\n",
    "\n",
    "# Plot Pearson Correlation Graph for 2 URL\n",
    "df = pd.DataFrame({'keyword_counts_in_url1':log.iloc[:,1].astype(float), 'keyword_counts_in_url2':log.iloc[:,2].astype(float)})\n",
    "P = (df.corr() * df['keyword_counts_in_url1'].std() * df['keyword_counts_in_url2'].std() / df['keyword_counts_in_url1'].var()).ix[0, 1]\n",
    "\n",
    "ax = fig.add_subplot(224)\n",
    "ax.scatter(keywords_counts_url1, keywords_counts_url2)\n",
    "for i, txt in enumerate(keywords_list):\n",
    "    ax.annotate(txt, (keywords_counts_url1[i], keywords_counts_url2[i]))\n",
    "plt.xlabel(\"Keyword Counts in URL1\")\n",
    "plt.ylabel(\"Keyword Counts in URL2\")\n",
    "plt.title(\"Pearson correlation for 2 URL P: %s\" % str(P))\n",
    "plt.show()"
   ]
  },
  {
   "cell_type": "code",
   "execution_count": null,
   "metadata": {
    "collapsed": true
   },
   "outputs": [],
   "source": []
  },
  {
   "cell_type": "code",
   "execution_count": null,
   "metadata": {
    "collapsed": true
   },
   "outputs": [],
   "source": []
  },
  {
   "cell_type": "code",
   "execution_count": null,
   "metadata": {
    "collapsed": true
   },
   "outputs": [],
   "source": []
  },
  {
   "cell_type": "code",
   "execution_count": null,
   "metadata": {
    "collapsed": true
   },
   "outputs": [],
   "source": []
  },
  {
   "cell_type": "code",
   "execution_count": null,
   "metadata": {
    "collapsed": true
   },
   "outputs": [],
   "source": []
  },
  {
   "cell_type": "code",
   "execution_count": null,
   "metadata": {
    "collapsed": true
   },
   "outputs": [],
   "source": []
  },
  {
   "cell_type": "code",
   "execution_count": null,
   "metadata": {
    "collapsed": true
   },
   "outputs": [],
   "source": []
  },
  {
   "cell_type": "code",
   "execution_count": null,
   "metadata": {
    "collapsed": true
   },
   "outputs": [],
   "source": []
  },
  {
   "cell_type": "code",
   "execution_count": null,
   "metadata": {
    "collapsed": true
   },
   "outputs": [],
   "source": []
  },
  {
   "cell_type": "code",
   "execution_count": null,
   "metadata": {
    "collapsed": true
   },
   "outputs": [],
   "source": []
  },
  {
   "cell_type": "code",
   "execution_count": null,
   "metadata": {
    "collapsed": true
   },
   "outputs": [],
   "source": []
  }
 ],
 "metadata": {
  "kernelspec": {
   "display_name": "Python36 scrapy",
   "language": "python",
   "name": "myenv"
  },
  "language_info": {
   "codemirror_mode": {
    "name": "ipython",
    "version": 3
   },
   "file_extension": ".py",
   "mimetype": "text/x-python",
   "name": "python",
   "nbconvert_exporter": "python",
   "pygments_lexer": "ipython3",
   "version": "3.5.4"
  }
 },
 "nbformat": 4,
 "nbformat_minor": 2
}
